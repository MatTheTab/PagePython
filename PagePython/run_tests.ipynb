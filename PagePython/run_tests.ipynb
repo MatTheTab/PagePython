{
 "cells": [
  {
   "cell_type": "code",
   "execution_count": 80,
   "metadata": {},
   "outputs": [],
   "source": [
    "import uuid\n",
    "import random\n",
    "\n",
    "from tqdm import tqdm\n",
    "from threading import Thread\n",
    "\n",
    "from cassandra.cluster import Cluster, BatchStatement\n",
    "from cassandra.policies import RetryPolicy, ExponentialReconnectionPolicy\n",
    "\n",
    "from utils.query_utils import *"
   ]
  },
  {
   "cell_type": "code",
   "execution_count": 81,
   "metadata": {},
   "outputs": [],
   "source": [
    "CLUSTER_IDS = ['172.19.0.2']\n",
    "KEYSPACE = 'library_keyspace'\n",
    "\n",
    "cluster = Cluster(CLUSTER_IDS)\n",
    "session = cluster.connect()\n",
    "session.set_keyspace(KEYSPACE)\n",
    "\n",
    "cluster.default_retry_policy = RetryPolicy()\n",
    "cluster.default_reconnection_policy = ExponentialReconnectionPolicy(base_delay=1, max_delay=60, max_attempts=60)"
   ]
  },
  {
   "cell_type": "code",
   "execution_count": 82,
   "metadata": {},
   "outputs": [
    {
     "name": "stdout",
     "output_type": "stream",
     "text": [
      "9e596e55-5cdd-41bd-9492-cf31fcf45809 4ec9d5f6-3af1-4503-93a6-7ff2ad6175e4 User 101 Book 2001\n"
     ]
    },
    {
     "data": {
      "text/plain": [
       "UUID('9e596e55-5cdd-41bd-9492-cf31fcf45809')"
      ]
     },
     "execution_count": 82,
     "metadata": {},
     "output_type": "execute_result"
    }
   ],
   "source": [
    "res = get_all_reservations(session)\n",
    "for r in res:\n",
    "    print(r.reservation_id, r.user_id, r.user_name, r.book_name)\n",
    "    reservation_id = r.reservation_id\n",
    "    \n",
    "reservation_id"
   ]
  },
  {
   "cell_type": "code",
   "execution_count": 18,
   "metadata": {},
   "outputs": [
    {
     "name": "stdout",
     "output_type": "stream",
     "text": [
      "1001\n"
     ]
    },
    {
     "data": {
      "text/plain": [
       "(UUID('78f7e1da-9552-4e91-88d7-bc00021751c7'), 'Book 1')"
      ]
     },
     "execution_count": 18,
     "metadata": {},
     "output_type": "execute_result"
    }
   ],
   "source": [
    "res = get_all_books(session)\n",
    "print(len(list(res)))\n",
    "for r in res:\n",
    "    if r.is_reserved:\n",
    "        print(r.book_id, r.book_name, r.is_reserved)\n",
    "    if r.book_name == \"Book 1\":\n",
    "        book_id = r.book_id\n",
    "        book_name = \"Book 1\"\n",
    "\n",
    "book_id, book_name"
   ]
  },
  {
   "cell_type": "code",
   "execution_count": 10,
   "metadata": {},
   "outputs": [
    {
     "name": "stdout",
     "output_type": "stream",
     "text": [
      "9a72123f-0ecf-4e24-ac69-530fe1c44467 User 101 [UUID('44c4f1be-d266-437b-9dcf-bbfe45eec299')]\n"
     ]
    },
    {
     "data": {
      "text/plain": [
       "('User 1', UUID('a26c83c2-3a1b-4f26-b18c-a0a8385bc492'))"
      ]
     },
     "execution_count": 10,
     "metadata": {},
     "output_type": "execute_result"
    }
   ],
   "source": [
    "res = get_all_users(session)\n",
    "for r in res:\n",
    "    if r.user_name == \"User 1\":\n",
    "        user_name = \"User 1\"\n",
    "        user_id = r.user_id\n",
    "    if r.reservation_ids_list is not None:\n",
    "        print(r.user_id, r.user_name, r.reservation_ids_list)\n",
    "\n",
    "user_name, user_id"
   ]
  },
  {
   "cell_type": "code",
   "execution_count": 83,
   "metadata": {},
   "outputs": [],
   "source": [
    "def test_reserve_cancel_debug(session, reservation_id, user_id, user_name, book_id, book_name, repeat_num=10_000):\n",
    "    # Creates and cancels a reservation 10_000 times\n",
    "\n",
    "    # for _ in range(repeat_num):\n",
    "    for _ in range(3):\n",
    "        add_reservation(session, reservation_id, user_id, user_name, book_name, book_id)\n",
    "\n",
    "        print(\"Created\")\n",
    "        res = get_all_reservations(session)\n",
    "        for r in res:\n",
    "            if r.reservation_id == reservation_id:\n",
    "                print(r.reservation_id, r.user_id, r.user_name, r.book_name)\n",
    "\n",
    "        cancel_reservation(session, reservation_id)\n",
    "        print(\"Cancelled\")\n",
    "        res = get_all_reservations(session)\n",
    "        for r in res:\n",
    "            if r.reservation_id == reservation_id:\n",
    "                print(r.reservation_id, r.user_id, r.user_name, r.book_name)\n",
    "\n",
    "\n",
    "def test_update_reservations_debug(session, num_reservations=1000):\n",
    "    reservations = list(get_all_reservations(session))\n",
    "    books = get_all_books(session)\n",
    "    available_books = []\n",
    "    for book in books:\n",
    "        if not book.is_reserved:\n",
    "            available_books.append(book)\n",
    "\n",
    "    assert len(reservations) >= num_reservations, f\"There should be at least a {num_reservations} existing reservations\"\n",
    "    assert len(available_books) >= num_reservations, f\"There should be at least a {num_reservations} available books\"\n",
    "\n",
    "    for i in tqdm(range(num_reservations)):\n",
    "        reservation = reservations[i]\n",
    "        new_book = available_books[i]\n",
    "\n",
    "        assert reservation.book_id != new_book.book_id\n",
    "        assert reservation.book_name != new_book.book_name\n",
    "\n",
    "        update_reservation_book(session, reservation.reservation_id, new_book.book_id)\n",
    "        \n",
    "        updated_reservation = get_reservation_by_id(session, reservation.reservation_id)\n",
    "        \n",
    "        assert updated_reservation.book_id == new_book.book_id\n",
    "        assert updated_reservation.book_name == new_book.book_name"
   ]
  },
  {
   "cell_type": "code",
   "execution_count": 84,
   "metadata": {},
   "outputs": [],
   "source": [
    "def test_same_request(session, reservation_id, new_book_id, repeat_num=10_000):\n",
    "    # Runs an update of the book in a reservation 10_000 times\n",
    "\n",
    "    for _ in tqdm(range(repeat_num)):\n",
    "        update_reservation_book(session, reservation_id, new_book_id)\n",
    "\n",
    "\n",
    "def test_reserve_cancel(session, reservation_id, user_id, user_name, book_id, book_name, repeat_num=10_000):\n",
    "    # Creates and cancels a reservation 10_000 times\n",
    "\n",
    "    for _ in tqdm(range(repeat_num)):\n",
    "        add_reservation(session, reservation_id, user_id, user_name, book_name, book_id)\n",
    "        cancel_reservation(session, reservation_id)\n",
    "\n",
    "    add_reservation(session, reservation_id, user_id, user_name, book_name, book_id)\n",
    "\n",
    "\n",
    "def test_update_reservations(session, num_reservations=1000):\n",
    "    reservations = list(get_all_reservations(session))\n",
    "    books = get_all_books(session)\n",
    "    available_books = []\n",
    "    for book in books:\n",
    "        if not book.is_reserved:\n",
    "            available_books.append(book)\n",
    "\n",
    "    assert len(reservations) >= num_reservations, f\"There should be at least a {num_reservations} existing reservations\"\n",
    "    assert len(available_books) >= num_reservations, f\"There should be at least a {num_reservations} available books\"\n",
    "\n",
    "    for i in tqdm(range(num_reservations)):\n",
    "        reservation = reservations[i]\n",
    "        new_book = available_books[i]\n",
    "\n",
    "        update_reservation_book(session, reservation.reservation_id, new_book.book_id)\n",
    "\n",
    "\n",
    "def test_make_all_reservations_two_users(session, user1, user2):\n",
    "    def make_all_reservations(user_id, user_name):\n",
    "        user_cluster = Cluster(CLUSTER_IDS)\n",
    "        user_session = user_cluster.connect(KEYSPACE)\n",
    "\n",
    "        books = get_all_books(session)\n",
    "        available_books = [book for book in books if not book.is_reserved]\n",
    "    \n",
    "        while len(available_books) > 0:\n",
    "            selected_random_book = random.choice(available_books)\n",
    "            try:\n",
    "                add_reservation(user_session, uuid.uuid4(), user_id, user_name, selected_random_book.book_name, selected_random_book.book_id)\n",
    "            \n",
    "            except:\n",
    "                pass\n",
    "            \n",
    "            books = get_all_books(session)\n",
    "            available_books = [book for book in books if not book.is_reserved]\n",
    "\n",
    "        user_session.shutdown()\n",
    "\n",
    "    thread1 = Thread(target=make_all_reservations, args=[user1.user_id, user1.user_name])\n",
    "    thread2 = Thread(target=make_all_reservations, args=[user2.user_id, user2.user_name])\n",
    "\n",
    "    thread1.start()\n",
    "    thread2.start()\n",
    "\n",
    "    thread1.join()\n",
    "    thread2.join()"
   ]
  },
  {
   "cell_type": "code",
   "execution_count": 89,
   "metadata": {},
   "outputs": [],
   "source": [
    "users = get_all_users(session)\n",
    "user1, user2 = None, None\n",
    "for user in users:\n",
    "    if user.user_name == \"User 1\":\n",
    "        user1 = user\n",
    "\n",
    "    if user.user_name == \"User 2\":\n",
    "        user2 = user\n",
    "\n",
    "test_make_all_reservations_two_users(session, user1, user2)"
   ]
  },
  {
   "cell_type": "code",
   "execution_count": 90,
   "metadata": {},
   "outputs": [
    {
     "name": "stdout",
     "output_type": "stream",
     "text": [
      "User 1 reservation count: 1002\n",
      "User 2 reservation count: 1002\n"
     ]
    }
   ],
   "source": [
    "all_reservations = get_all_reservations(session)\n",
    "\n",
    "user_1_reservations = 0\n",
    "user_2_reservations = 0\n",
    "for reservation in all_reservations:\n",
    "    if reservation.user_id == user1.user_id:\n",
    "        user_1_reservations += 1\n",
    "\n",
    "    if reservation.user_id == user2.user_id:\n",
    "        user_2_reservations += 1\n",
    "\n",
    "print(f\"User 1 reservation count: {user_1_reservations}\")\n",
    "print(f\"User 2 reservation count: {user_2_reservations}\")"
   ]
  },
  {
   "cell_type": "code",
   "execution_count": 91,
   "metadata": {},
   "outputs": [],
   "source": [
    "res = list(get_all_reservations(session))\n",
    "user_1_reservations = [r for r in res if r.user_id == user1.user_id]\n",
    "user_2_reservations = [r for r in res if r.user_id == user2.user_id]\n",
    "\n",
    "user_1 = get_user(session, user1.user_id)\n",
    "user_2 = get_user(session, user2.user_id)\n",
    "\n",
    "for r in user_1_reservations:\n",
    "    if r in user_2_reservations:\n",
    "        print(\"Error user1 reservation in user2 reservations list\")\n",
    "\n",
    "    if r.reservation_id not in user_1.reservation_ids_list:\n",
    "        print(\"Error user1 reservation not in list\")\n",
    "\n",
    "for r in user_2_reservations:\n",
    "    if r in user_1_reservations:\n",
    "        print(\"Error user2 reservation in user1 reservations list\")\n",
    "\n",
    "    if r.reservation_id not in user_2.reservation_ids_list:\n",
    "        print(\"Error user2 reservation not in list\")"
   ]
  },
  {
   "cell_type": "code",
   "execution_count": 92,
   "metadata": {},
   "outputs": [
    {
     "ename": "AssertionError",
     "evalue": "No book should be reserved by both clients at the same time",
     "output_type": "error",
     "traceback": [
      "\u001b[0;31m---------------------------------------------------------------------------\u001b[0m",
      "\u001b[0;31mAssertionError\u001b[0m                            Traceback (most recent call last)",
      "Cell \u001b[0;32mIn[92], line 4\u001b[0m\n\u001b[1;32m      1\u001b[0m book_ids_1 \u001b[38;5;241m=\u001b[39m \u001b[38;5;28mset\u001b[39m([r\u001b[38;5;241m.\u001b[39mbook_id \u001b[38;5;28;01mfor\u001b[39;00m r \u001b[38;5;129;01min\u001b[39;00m user_1_reservations])\n\u001b[1;32m      2\u001b[0m book_ids_2 \u001b[38;5;241m=\u001b[39m \u001b[38;5;28mset\u001b[39m([r\u001b[38;5;241m.\u001b[39mbook_id \u001b[38;5;28;01mfor\u001b[39;00m r \u001b[38;5;129;01min\u001b[39;00m user_2_reservations])\n\u001b[0;32m----> 4\u001b[0m \u001b[38;5;28;01massert\u001b[39;00m \u001b[38;5;28mlen\u001b[39m(book_ids_1 \u001b[38;5;241m&\u001b[39m book_ids_2) \u001b[38;5;241m==\u001b[39m \u001b[38;5;241m0\u001b[39m, \u001b[38;5;124m\"\u001b[39m\u001b[38;5;124mNo book should be reserved by both clients at the same time\u001b[39m\u001b[38;5;124m\"\u001b[39m\n",
      "\u001b[0;31mAssertionError\u001b[0m: No book should be reserved by both clients at the same time"
     ]
    }
   ],
   "source": [
    "book_ids_1 = set([r.book_id for r in user_1_reservations])\n",
    "book_ids_2 = set([r.book_id for r in user_2_reservations])\n",
    "\n",
    "assert len(book_ids_1 & book_ids_2) == 0, \"No book should be reserved by both clients at the same time\""
   ]
  },
  {
   "cell_type": "code",
   "execution_count": 93,
   "metadata": {},
   "outputs": [
    {
     "data": {
      "text/plain": [
       "{UUID('35f42768-c776-44b8-8792-bee48d439181'),\n",
       " UUID('90c86772-d5b2-4638-82c5-7203c2c58674'),\n",
       " UUID('a5158b5f-3b9d-43a2-b059-49aea66b7886'),\n",
       " UUID('baa8dda6-ce01-47be-a147-8b3cc55bc330')}"
      ]
     },
     "execution_count": 93,
     "metadata": {},
     "output_type": "execute_result"
    }
   ],
   "source": [
    "book_ids_1 & book_ids_2"
   ]
  },
  {
   "cell_type": "code",
   "execution_count": 96,
   "metadata": {},
   "outputs": [
    {
     "name": "stdout",
     "output_type": "stream",
     "text": [
      "eda0d700-677c-4df0-b291-6d3a82598039 User 1 Book 310 35f42768-c776-44b8-8792-bee48d439181\n",
      "4fe17768-3b14-4e7b-8a66-142f6eb91b06 User 2 Book 310 35f42768-c776-44b8-8792-bee48d439181\n"
     ]
    }
   ],
   "source": [
    "book = list(book_ids_1 & book_ids_2)[0]\n",
    "for res in get_all_reservations(session):\n",
    "    if res.book_id == book:\n",
    "        print(res.reservation_id, res.user_name, res.book_name, res.book_id)"
   ]
  },
  {
   "cell_type": "code",
   "execution_count": 94,
   "metadata": {},
   "outputs": [
    {
     "data": {
      "text/plain": [
       "[]"
      ]
     },
     "execution_count": 94,
     "metadata": {},
     "output_type": "execute_result"
    }
   ],
   "source": [
    "books = get_all_books(session)\n",
    "available_books = [book for book in books if not book.is_reserved]\n",
    "available_books"
   ]
  },
  {
   "cell_type": "code",
   "execution_count": 32,
   "metadata": {},
   "outputs": [
    {
     "name": "stderr",
     "output_type": "stream",
     "text": [
      "100%|██████████| 1000/1000 [00:12<00:00, 77.19it/s]\n"
     ]
    }
   ],
   "source": [
    "test_update_reservations(session)"
   ]
  },
  {
   "cell_type": "code",
   "execution_count": 15,
   "metadata": {},
   "outputs": [
    {
     "name": "stderr",
     "output_type": "stream",
     "text": [
      "100%|██████████| 10000/10000 [03:33<00:00, 46.90it/s]\n"
     ]
    },
    {
     "name": "stdout",
     "output_type": "stream",
     "text": [
      "44c4f1be-d266-437b-9dcf-bbfe45eec299 a26c83c2-3a1b-4f26-b18c-a0a8385bc492 User 1 Book 1001\n"
     ]
    }
   ],
   "source": [
    "test_reserve_cancel(session, reservation_id, user_id, user_name, book_id, book_name)\n",
    "\n",
    "res = get_all_reservations(session)\n",
    "for r in res:\n",
    "    print(r.reservation_id, r.user_id, r.user_name, r.book_name)\n",
    "    "
   ]
  },
  {
   "cell_type": "code",
   "execution_count": 17,
   "metadata": {},
   "outputs": [
    {
     "name": "stderr",
     "output_type": "stream",
     "text": [
      "100%|██████████| 10000/10000 [00:44<00:00, 226.46it/s]"
     ]
    },
    {
     "name": "stdout",
     "output_type": "stream",
     "text": [
      "44c4f1be-d266-437b-9dcf-bbfe45eec299 a26c83c2-3a1b-4f26-b18c-a0a8385bc492 User 1 Book 1\n"
     ]
    },
    {
     "name": "stderr",
     "output_type": "stream",
     "text": [
      "\n"
     ]
    }
   ],
   "source": [
    "test_same_request(session, reservation_id, book_id)\n",
    "\n",
    "res = get_all_reservations(session)\n",
    "for r in res:\n",
    "    print(r.reservation_id, r.user_id, r.user_name, r.book_name)"
   ]
  },
  {
   "cell_type": "code",
   "execution_count": null,
   "metadata": {},
   "outputs": [],
   "source": [
    "session.shutdown()\n",
    "cluster.shutdown()"
   ]
  }
 ],
 "metadata": {
  "kernelspec": {
   "display_name": "base",
   "language": "python",
   "name": "python3"
  },
  "language_info": {
   "codemirror_mode": {
    "name": "ipython",
    "version": 3
   },
   "file_extension": ".py",
   "mimetype": "text/x-python",
   "name": "python",
   "nbconvert_exporter": "python",
   "pygments_lexer": "ipython3",
   "version": "3.12.2"
  }
 },
 "nbformat": 4,
 "nbformat_minor": 2
}
