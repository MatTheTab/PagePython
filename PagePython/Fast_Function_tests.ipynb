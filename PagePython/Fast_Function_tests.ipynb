{
 "cells": [
  {
   "cell_type": "code",
   "execution_count": 1,
   "metadata": {},
   "outputs": [],
   "source": [
    "import uuid\n",
    "import random\n",
    "\n",
    "from tqdm import tqdm\n",
    "from threading import Thread\n",
    "from threading import Thread, Lock\n",
    "\n",
    "from cassandra.cluster import Cluster, BatchStatement\n",
    "from cassandra.policies import RetryPolicy, ExponentialReconnectionPolicy\n",
    "\n",
    "from utils.query_utils import *\n",
    "from cassandra import ConsistencyLevel\n",
    "from cassandra.cluster import ExecutionProfile, EXEC_PROFILE_DEFAULT\n",
    "\n",
    "from cassandra.cluster import Cluster\n",
    "from cassandra import ConsistencyLevel\n",
    "from cassandra.cluster import Cluster, ExecutionProfile, EXEC_PROFILE_DEFAULT\n",
    "from cassandra.policies import WhiteListRoundRobinPolicy, DowngradingConsistencyRetryPolicy\n",
    "from cassandra.query import tuple_factory\n",
    "import time"
   ]
  },
  {
   "cell_type": "code",
   "execution_count": 2,
   "metadata": {},
   "outputs": [],
   "source": [
    "profile = ExecutionProfile(\n",
    "    retry_policy = DowngradingConsistencyRetryPolicy,\n",
    "    consistency_level = ConsistencyLevel.TWO,\n",
    "    serial_consistency_level = ConsistencyLevel.LOCAL_SERIAL,\n",
    "    request_timeout = 200,\n",
    ")\n",
    "\n",
    "CLUSTER_IDS = ['172.21.0.2']\n",
    "KEYSPACE = 'library_keyspace'\n",
    "\n",
    "cluster = Cluster(CLUSTER_IDS, execution_profiles={EXEC_PROFILE_DEFAULT: profile})\n",
    "session = cluster.connect()\n",
    "session.set_keyspace(KEYSPACE)"
   ]
  },
  {
   "cell_type": "code",
   "execution_count": 3,
   "metadata": {},
   "outputs": [
    {
     "data": {
      "text/plain": [
       "UUID('e8228912-65fa-4332-a25a-5663b62d3501')"
      ]
     },
     "execution_count": 3,
     "metadata": {},
     "output_type": "execute_result"
    }
   ],
   "source": [
    "res = get_all_reservations(session)\n",
    "for r in res:\n",
    "    reservation_id = r.reservation_id\n",
    "    user_id = r.user_id\n",
    "    user_name = r.user_name\n",
    "    book_id = r.book_id\n",
    "    book_name = r.book_name\n",
    "    \n",
    "reservation_id"
   ]
  },
  {
   "cell_type": "code",
   "execution_count": 4,
   "metadata": {},
   "outputs": [],
   "source": [
    "def add_reservation_fast(session, reservation_id, user_id, user_name, book_name, book_id, timeout = 120):\n",
    "    insert_reservation_query = \"\"\"\n",
    "        INSERT INTO reservations (reservation_id, user_id, user_name, book_name, book_id)\n",
    "        VALUES (%s, %s, %s, %s, %s);\n",
    "    \"\"\"\n",
    "    try:\n",
    "        book = get_book(session, book_id = book_id)\n",
    "        if book is not None and not book.is_reserved:\n",
    "            set_book_reserved(session, book_id=book_id, reserved = True, timeout = timeout)\n",
    "            #append_user_reservation(session, user_id, user_name, reservation_id, timeout = timeout)\n",
    "            session.execute(insert_reservation_query, [reservation_id, user_id, user_name, book_name, book_id], timeout=timeout)\n",
    "    except InvalidRequest as e:\n",
    "        print(\"Error occurred while inserting reservation:\", e)"
   ]
  },
  {
   "cell_type": "code",
   "execution_count": 5,
   "metadata": {},
   "outputs": [],
   "source": [
    "def add_reservation_slow(session, reservation_id, user_id, user_name, book_name, book_id, timeout = 120):\n",
    "    insert_reservation_query = \"\"\"\n",
    "        INSERT INTO reservations (reservation_id, user_id, user_name, book_name, book_id)\n",
    "        VALUES (%s, %s, %s, %s, %s);\n",
    "    \"\"\"\n",
    "    try:\n",
    "        book = get_book(session, book_id = book_id)\n",
    "        if book is not None and not book.is_reserved:\n",
    "            set_book_reserved(session, book_id=book_id, reserved = True, timeout = timeout)\n",
    "            append_user_reservation(session, user_id, user_name, reservation_id, timeout = timeout)\n",
    "            session.execute(insert_reservation_query, [reservation_id, user_id, user_name, book_name, book_id], timeout=timeout)\n",
    "    except InvalidRequest as e:\n",
    "        print(\"Error occurred while inserting reservation:\", e)"
   ]
  },
  {
   "cell_type": "code",
   "execution_count": 6,
   "metadata": {},
   "outputs": [],
   "source": [
    "class Add_Reservation_Handler:\n",
    "    def __init__(self, session):\n",
    "        self.insert_data = []  # Initialized as an empty list\n",
    "        self.counter = 0  # Initialized as 0\n",
    "        self.session = session\n",
    "\n",
    "    def add_data(self, data):\n",
    "        self.insert_data.append(data)\n",
    "        self.counter += 1\n",
    "\n",
    "    def display_data(self):\n",
    "        print(\"Inserted Data:\", self.insert_data)\n",
    "        print(\"Counter:\", self.counter)\n",
    "\n",
    "    def batch_set_book_reserved(self, session, book_id, reserved = True, timeout = 120):\n",
    "        pass\n",
    "\n",
    "    def add_batch_reservation(self, reservation_id, user_id, user_name, book_name, book_id, batch_size = 1000, forceful_exec = False, timeout = 120):\n",
    "        try:\n",
    "            book = get_book(self.session, book_id = book_id)\n",
    "            if book is not None and not book.is_reserved:\n",
    "                self.insert_data.append((reservation_id, user_id, user_name, book_name, book_id))\n",
    "                self.counter += 1\n",
    "                if forceful_exec or self.counter == batch_size:\n",
    "                    self.batch_set_book_reserved(book_id=book_id, reserved = True, timeout = timeout)\n",
    "                    self.batch_append_user_reservation(self.session, user_id, user_name, reservation_id, timeout = timeout)\n",
    "                    insert_reservation_query = self.session.prepare(\"\"\"\n",
    "                                                                    INSERT INTO reservations (reservation_id, user_id, user_name, book_name, book_id)\n",
    "                                                                    VALUES (?, ?, ?, ?, ?);\"\"\")\n",
    "                    batch_add = BatchStatement()\n",
    "                    for example in self.insert_data:\n",
    "                        batch_add.add(insert_reservation_query, example[0], example[1], example[2], example[3], example[4])\n",
    "                    \n",
    "                    self.session.execute(batch_add, timeout=timeout)\n",
    "                    self.counter = 0\n",
    "                    self.insert_data = []\n",
    "        except InvalidRequest as e:\n",
    "            print(\"Error occurred while inserting reservation:\", e)"
   ]
  },
  {
   "cell_type": "code",
   "execution_count": null,
   "metadata": {},
   "outputs": [],
   "source": [
    "    print(\"Adding books\")\n",
    "    book_ids = []\n",
    "    book_names = []\n",
    "    insert_statement_books = session.prepare(\"\"\"\n",
    "        INSERT INTO books (book_id, book_name, is_reserved) VALUES (?, ?, ?)\n",
    "    \"\"\")\n",
    "    for i in range(200):\n",
    "        batch_books = BatchStatement()\n",
    "        for j in range(10):\n",
    "            book_id = uuid.uuid4()\n",
    "            book_ids.append(book_id)\n",
    "            book_name = f'Book {i*10+j+1}'\n",
    "            book_names.append(book_name)\n",
    "            batch_books.add(insert_statement_books, (book_id, book_name, False))\n",
    "        try:\n",
    "            session.execute(batch_books, timeout=120)\n",
    "        except InvalidRequest as e:\n",
    "            raise e"
   ]
  },
  {
   "cell_type": "code",
   "execution_count": 7,
   "metadata": {},
   "outputs": [],
   "source": [
    "def add_batch_reservation(session, reservation_id, user_id, user_name, book_name, book_id, batch_size = 1000, forceful_exec = False, counter = 0):\n",
    "    insert_reservation_query = \"\"\"\n",
    "        INSERT INTO reservations (reservation_id, user_id, user_name, book_name, book_id)\n",
    "        VALUES (%s, %s, %s, %s, %s);\n",
    "    \"\"\"\n",
    "    try:\n",
    "        book = get_book(session, book_id = book_id)\n",
    "        if book is not None and not book.is_reserved:\n",
    "\n",
    "            set_book_reserved(session, book_id=book_id, reserved = True, timeout = timeout)\n",
    "            append_user_reservation(session, user_id, user_name, reservation_id, timeout = timeout)\n",
    "            session.execute(insert_reservation_query, [reservation_id, user_id, user_name, book_name, book_id], timeout=timeout)\n",
    "    except InvalidRequest as e:\n",
    "        print(\"Error occurred while inserting reservation:\", e)    \n",
    "    return counter\n",
    "\n",
    "def cancel_batch_reservation(session, reservation_id, batch_size = 1000, forceful_exec = False, prepared = False):\n",
    "    pass"
   ]
  },
  {
   "cell_type": "code",
   "execution_count": 8,
   "metadata": {},
   "outputs": [],
   "source": [
    "def test_reserve_cancel_fast(session, reservation_id, user_id, user_name, book_id, book_name, repeat_num=10_000):\n",
    "    # Creates and cancels a reservation 10_000 times\n",
    "\n",
    "    for _ in tqdm(range(repeat_num)):\n",
    "        add_reservation_fast(session, reservation_id, user_id, user_name, book_name, book_id)\n",
    "        cancel_reservation(session, reservation_id)\n",
    "\n",
    "    add_reservation_fast(session, reservation_id, user_id, user_name, book_name, book_id)\n",
    "\n",
    "def test_reserve_cancel_slow(session, reservation_id, user_id, user_name, book_id, book_name, repeat_num=10_000):\n",
    "    # Creates and cancels a reservation 10_000 times\n",
    "\n",
    "    for _ in tqdm(range(repeat_num)):\n",
    "        add_reservation_slow(session, reservation_id, user_id, user_name, book_name, book_id)\n",
    "        cancel_reservation(session, reservation_id)\n",
    "\n",
    "    add_reservation_slow(session, reservation_id, user_id, user_name, book_name, book_id)"
   ]
  },
  {
   "cell_type": "code",
   "execution_count": 9,
   "metadata": {},
   "outputs": [
    {
     "name": "stderr",
     "output_type": "stream",
     "text": [
      "100%|██████████| 10000/10000 [00:58<00:00, 169.56it/s]"
     ]
    },
    {
     "name": "stdout",
     "output_type": "stream",
     "text": [
      "Execution Time: 58.98241949081421\n"
     ]
    },
    {
     "name": "stderr",
     "output_type": "stream",
     "text": [
      "\n"
     ]
    }
   ],
   "source": [
    "start_time = time.time()\n",
    "test_reserve_cancel_fast(session, reservation_id, user_id, user_name, book_id, book_name)\n",
    "end_time = time.time()\n",
    "print(f\"Execution Time: {end_time - start_time}\")"
   ]
  },
  {
   "cell_type": "code",
   "execution_count": 10,
   "metadata": {},
   "outputs": [
    {
     "name": "stderr",
     "output_type": "stream",
     "text": [
      "100%|██████████| 10000/10000 [03:18<00:00, 50.33it/s]"
     ]
    },
    {
     "name": "stdout",
     "output_type": "stream",
     "text": [
      "Execution Time: 198.7042052745819\n"
     ]
    },
    {
     "name": "stderr",
     "output_type": "stream",
     "text": [
      "\n"
     ]
    }
   ],
   "source": [
    "start_time = time.time()\n",
    "test_reserve_cancel_slow(session, reservation_id, user_id, user_name, book_id, book_name)\n",
    "end_time = time.time()\n",
    "print(f\"Execution Time: {end_time - start_time}\")"
   ]
  },
  {
   "cell_type": "code",
   "execution_count": 11,
   "metadata": {},
   "outputs": [
    {
     "name": "stderr",
     "output_type": "stream",
     "text": [
      "100%|██████████| 10000/10000 [02:56<00:00, 56.51it/s]"
     ]
    },
    {
     "name": "stdout",
     "output_type": "stream",
     "text": [
      "Execution Time: 176.95874738693237\n"
     ]
    },
    {
     "name": "stderr",
     "output_type": "stream",
     "text": [
      "\n"
     ]
    }
   ],
   "source": [
    "start_time = time.time()\n",
    "test_reserve_cancel_fast(session, reservation_id, user_id, user_name, book_id, book_name)\n",
    "end_time = time.time()\n",
    "print(f\"Execution Time: {end_time - start_time}\")"
   ]
  }
 ],
 "metadata": {
  "kernelspec": {
   "display_name": "Python 3",
   "language": "python",
   "name": "python3"
  },
  "language_info": {
   "codemirror_mode": {
    "name": "ipython",
    "version": 3
   },
   "file_extension": ".py",
   "mimetype": "text/x-python",
   "name": "python",
   "nbconvert_exporter": "python",
   "pygments_lexer": "ipython3",
   "version": "3.10.12"
  }
 },
 "nbformat": 4,
 "nbformat_minor": 2
}
