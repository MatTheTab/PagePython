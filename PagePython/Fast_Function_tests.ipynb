{
 "cells": [
  {
   "cell_type": "code",
   "execution_count": null,
   "metadata": {},
   "outputs": [],
   "source": [
    "import uuid\n",
    "import random\n",
    "\n",
    "from tqdm import tqdm\n",
    "from threading import Thread\n",
    "from threading import Thread, Lock\n",
    "\n",
    "from cassandra.cluster import Cluster, BatchStatement\n",
    "from cassandra.policies import RetryPolicy, ExponentialReconnectionPolicy\n",
    "\n",
    "from utils.query_utils import *\n",
    "from cassandra import ConsistencyLevel\n",
    "from cassandra.cluster import ExecutionProfile, EXEC_PROFILE_DEFAULT\n",
    "\n",
    "from cassandra.cluster import Cluster\n",
    "from cassandra import ConsistencyLevel\n",
    "from cassandra.cluster import Cluster, ExecutionProfile, EXEC_PROFILE_DEFAULT\n",
    "from cassandra.policies import WhiteListRoundRobinPolicy, DowngradingConsistencyRetryPolicy\n",
    "from cassandra.query import tuple_factory\n",
    "import time"
   ]
  },
  {
   "cell_type": "code",
   "execution_count": null,
   "metadata": {},
   "outputs": [],
   "source": [
    "profile = ExecutionProfile(\n",
    "    retry_policy = DowngradingConsistencyRetryPolicy,\n",
    "    consistency_level = ConsistencyLevel.TWO,\n",
    "    serial_consistency_level = ConsistencyLevel.LOCAL_SERIAL,\n",
    "    request_timeout = 200,\n",
    ")\n",
    "\n",
    "CLUSTER_IDS = ['172.21.0.2']\n",
    "KEYSPACE = 'library_keyspace'\n",
    "\n",
    "cluster = Cluster(CLUSTER_IDS, execution_profiles={EXEC_PROFILE_DEFAULT: profile})\n",
    "session = cluster.connect()\n",
    "session.set_keyspace(KEYSPACE)"
   ]
  },
  {
   "cell_type": "code",
   "execution_count": null,
   "metadata": {},
   "outputs": [],
   "source": [
    "res = get_all_reservations(session)\n",
    "for r in res:\n",
    "    reservation_id = r.reservation_id\n",
    "    user_id = r.user_id\n",
    "    user_name = r.user_name\n",
    "    book_id = r.book_id\n",
    "    book_name = r.book_name\n",
    "    \n",
    "reservation_id"
   ]
  },
  {
   "cell_type": "code",
   "execution_count": null,
   "metadata": {},
   "outputs": [],
   "source": [
    "def add_batch_reservation(session, reservation_id, user_id, user_name, book_name, book_id, batch_size = 1000, forceful_exec = False, prepared = False):\n",
    "    pass\n",
    "\n",
    "def cancel_batch_reservation(session, reservation_id, batch_size = 1000, forceful_exec = False, prepared = False):\n",
    "    pass"
   ]
  },
  {
   "cell_type": "code",
   "execution_count": null,
   "metadata": {},
   "outputs": [],
   "source": [
    "def test_reserve_cancel(session, reservation_id, user_id, user_name, book_id, book_name, repeat_num=10_000):\n",
    "    # Creates and cancels a reservation 10_000 times\n",
    "\n",
    "    for _ in tqdm(range(repeat_num)):\n",
    "        add_reservation(session, reservation_id, user_id, user_name, book_name, book_id)\n",
    "        cancel_reservation(session, reservation_id)\n",
    "\n",
    "    add_reservation(session, reservation_id, user_id, user_name, book_name, book_id)\n",
    "\n",
    "def test_reserve_cancel_fast(session, reservation_id, user_id, user_name, book_id, book_name, repeat_num=10_000):\n",
    "\n",
    "    for _ in tqdm(range(repeat_num)):\n",
    "        add_batch_reservation(session, reservation_id, user_id, user_name, book_name, book_id)\n",
    "        cancel_batch_reservation(session, reservation_id)\n",
    "\n",
    "    add_batch_reservation(session, reservation_id, user_id, user_name, book_name, book_id, forceful_exec = True)"
   ]
  },
  {
   "cell_type": "code",
   "execution_count": null,
   "metadata": {},
   "outputs": [],
   "source": [
    "start_time = time.time()\n",
    "test_reserve_cancel(session, reservation_id, user_id, user_name, book_id, book_name)\n",
    "end_time = time.time()\n",
    "print(f\"Execution Time: {end_time - start_time}\")"
   ]
  },
  {
   "cell_type": "code",
   "execution_count": null,
   "metadata": {},
   "outputs": [],
   "source": [
    "start_time = time.time()\n",
    "test_reserve_cancel_fast(session, reservation_id, user_id, user_name, book_id, book_name)\n",
    "end_time = time.time()\n",
    "print(f\"Execution Time: {end_time - start_time}\")"
   ]
  }
 ],
 "metadata": {
  "language_info": {
   "name": "python"
  }
 },
 "nbformat": 4,
 "nbformat_minor": 2
}
