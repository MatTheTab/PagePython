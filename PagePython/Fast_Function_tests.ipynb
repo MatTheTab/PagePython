{
 "cells": [
  {
   "cell_type": "code",
   "execution_count": 2,
   "metadata": {},
   "outputs": [],
   "source": [
    "import uuid\n",
    "import random\n",
    "\n",
    "from tqdm import tqdm\n",
    "from threading import Thread\n",
    "from threading import Thread, Lock\n",
    "\n",
    "from cassandra.cluster import Cluster, BatchStatement\n",
    "from cassandra.policies import RetryPolicy, ExponentialReconnectionPolicy\n",
    "\n",
    "from utils.query_utils import *\n",
    "from cassandra import ConsistencyLevel\n",
    "from cassandra.cluster import ExecutionProfile, EXEC_PROFILE_DEFAULT\n",
    "\n",
    "from cassandra.cluster import Cluster\n",
    "from cassandra import ConsistencyLevel\n",
    "from cassandra.cluster import Cluster, ExecutionProfile, EXEC_PROFILE_DEFAULT\n",
    "from cassandra.policies import WhiteListRoundRobinPolicy, DowngradingConsistencyRetryPolicy\n",
    "from cassandra.query import tuple_factory\n",
    "import time"
   ]
  },
  {
   "cell_type": "code",
   "execution_count": 2,
   "metadata": {},
   "outputs": [],
   "source": [
    "profile = ExecutionProfile(\n",
    "    retry_policy = DowngradingConsistencyRetryPolicy,\n",
    "    consistency_level = ConsistencyLevel.TWO,\n",
    "    serial_consistency_level = ConsistencyLevel.LOCAL_SERIAL,\n",
    "    request_timeout = 200,\n",
    ")\n",
    "\n",
    "CLUSTER_IDS = ['172.21.0.2']\n",
    "KEYSPACE = 'library_keyspace'\n",
    "\n",
    "cluster = Cluster(CLUSTER_IDS, execution_profiles={EXEC_PROFILE_DEFAULT: profile})\n",
    "session = cluster.connect()\n",
    "session.set_keyspace(KEYSPACE)"
   ]
  },
  {
   "cell_type": "code",
   "execution_count": 3,
   "metadata": {},
   "outputs": [
    {
     "data": {
      "text/plain": [
       "UUID('8efc2616-0d5d-4d20-9b62-604b8c9db02f')"
      ]
     },
     "execution_count": 3,
     "metadata": {},
     "output_type": "execute_result"
    }
   ],
   "source": [
    "res = get_all_reservations(session)\n",
    "for r in res:\n",
    "    reservation_id = r.reservation_id\n",
    "    user_id = r.user_id\n",
    "    user_name = r.user_name\n",
    "    book_id = r.book_id\n",
    "    book_name = r.book_name\n",
    "    \n",
    "reservation_id"
   ]
  },
  {
   "cell_type": "code",
   "execution_count": 4,
   "metadata": {},
   "outputs": [
    {
     "data": {
      "text/plain": [
       "(Row(user_id=UUID('37e94fcc-d6ce-4c9c-a586-3d2956632656'), reservation_id=UUID('027a896c-0c43-4866-a5aa-81b94bf6ebba'), book_id=UUID('5ff8a8fd-17b6-4323-b7c7-3e137fd6fef4'), book_name='Book 666', user_name='User 83'),\n",
       " Row(user_id=UUID('6acb9f75-a28b-4fae-9547-b0edfe27c8ac'), reservation_id=UUID('1695de29-65fc-4a62-9079-2db0dd927db2'), book_id=UUID('45ccdc81-d47e-4871-ab19-ba4334f80ced'), book_name='Book 95', user_name='User 2'))"
      ]
     },
     "execution_count": 4,
     "metadata": {},
     "output_type": "execute_result"
    }
   ],
   "source": [
    "users = get_all_users(session)\n",
    "user1, user2 = None, None\n",
    "for user in users:\n",
    "    if user1 is not None and user2 is None and user1.user_id != user.user_id:\n",
    "        user2 = user\n",
    "\n",
    "    if user1 is None:\n",
    "        user1 = user\n",
    "    \n",
    "(user1, user2)"
   ]
  },
  {
   "cell_type": "markdown",
   "metadata": {},
   "source": [
    "# New Tests"
   ]
  },
  {
   "cell_type": "code",
   "execution_count": 17,
   "metadata": {},
   "outputs": [],
   "source": [
    "def test_reserve_cancel(session, reservation_id, user_id, user_name, book_id, book_name, repeat_num=10_000):\n",
    "    # Creates and cancels a reservation 10_000 times\n",
    "\n",
    "    for _ in tqdm(range(repeat_num)):\n",
    "        add_reservation(session, reservation_id, user_id, user_name, book_name, book_id)\n",
    "        cancel_reservation(session, reservation_id)\n",
    "\n",
    "    add_reservation(session, reservation_id, user_id, user_name, book_name, book_id)\n",
    "    \n",
    "    #Added for testing:\n",
    "    time.sleep(0.5)\n",
    "    reservation = get_reservation_by_id(session, reservation_id)\n",
    "    assert reservation is not None\n",
    "\n",
    "def test_same_request(session, reservation_id, new_book_id, repeat_num=10_000):\n",
    "    # Runs an update of the book in a reservation 10_000 times\n",
    "\n",
    "    for _ in tqdm(range(repeat_num)):\n",
    "        update_reservation(session, reservation_id, new_book_id)\n",
    "    \n",
    "    #Added for testing\n",
    "    time.sleep(0.5)\n",
    "    reservation = get_reservation_by_id(session, reservation_id)\n",
    "    assert reservation.book_id == new_book_id\n",
    "\n",
    "def test_update_reservations(session, num_reservations=1000):\n",
    "    # Updates a 1000 reservations\n",
    "\n",
    "    reservations = list(get_all_reservations(session))\n",
    "    books = get_all_books(session)\n",
    "    available_books = []\n",
    "    for book in books:\n",
    "        if not book.is_reserved:\n",
    "            available_books.append(book)\n",
    "\n",
    "    assert len(reservations) >= num_reservations, f\"There should be at least a {num_reservations} existing reservations\"\n",
    "    assert len(available_books) >= num_reservations, f\"There should be at least a {num_reservations} available books\"\n",
    "\n",
    "    for i in tqdm(range(num_reservations)):\n",
    "        reservation = reservations[i]\n",
    "        new_book = available_books[i]\n",
    "\n",
    "        update_reservation(session, reservation.reservation_id, new_book.book_id)\n",
    "\n",
    "def test_make_all_reservations_two_users(user1, user2):\n",
    "    # Simulates two users reserving all possible books\n",
    "\n",
    "    def make_all_reservations(user_id, user_name):\n",
    "        # Simulates user making all possible reservations one by one\n",
    "\n",
    "        user_cluster = Cluster(CLUSTER_IDS)\n",
    "        user_session = user_cluster.connect(KEYSPACE)\n",
    "\n",
    "        # Update available book state\n",
    "        books = get_all_books(user_session)\n",
    "        available_books = [book for book in books if not book.is_reserved]\n",
    "    \n",
    "        while len(available_books) > 0:\n",
    "            selected_random_book = random.choice(available_books)\n",
    "            \n",
    "            try:\n",
    "                add_reservation(user_session, uuid.uuid4(), user_id, user_name, selected_random_book.book_name, selected_random_book.book_id)\n",
    "            except:\n",
    "                pass\n",
    "            \n",
    "            books = get_all_books(user_session)\n",
    "            available_books = [book for book in books if not book.is_reserved]\n",
    "\n",
    "        user_session.shutdown()\n",
    "\n",
    "    thread1 = Thread(target=make_all_reservations, args=[user1.user_id, user1.user_name])\n",
    "    thread2 = Thread(target=make_all_reservations, args=[user2.user_id, user2.user_name])\n",
    "\n",
    "    thread1.start()\n",
    "    thread2.start()\n",
    "\n",
    "    thread1.join()\n",
    "    thread2.join()\n",
    "\n",
    "def test_make_random_requests_two_users(user1, user2, num_repeats=10_000):\n",
    "    # Simulates two users making 10_000 total random requests\n",
    "\n",
    "    def make_random_requests(user_id, user_name, num_actions):\n",
    "        # Simulates a user making random requests num_actions number of times\n",
    "\n",
    "        user_cluster = Cluster(CLUSTER_IDS)\n",
    "        user_session = user_cluster.connect(KEYSPACE)\n",
    "\n",
    "        possible_requests = [\"update_reservation_book\", \"update_reservation_user\", \"cancel_reservation\", \"make_reservation\"]\n",
    "\n",
    "        while num_actions > 0:\n",
    "            \n",
    "            num_actions -= 1\n",
    "            selected_action = random.choice(possible_requests)\n",
    "\n",
    "            # Update DB state information\n",
    "            reservations = list(get_all_reservations(user_session))\n",
    "\n",
    "            # If no reservations left, make a reservation\n",
    "            if len(reservations) == 0:\n",
    "                selected_action = \"make_reservation\"\n",
    "\n",
    "            books = list(get_all_books(user_session))\n",
    "            users = list(get_all_users(user_session))\n",
    "            \n",
    "            if selected_action == \"update_reservation_book\":\n",
    "                reservation = random.choice(reservations)\n",
    "                book = random.choice(books)\n",
    "\n",
    "                # Does not assume book is available\n",
    "                update_reservation(user_session, reservation.reservation_id, book.book_id)\n",
    "\n",
    "            elif selected_action == \"update_reservation_user\":\n",
    "                reservation = random.choice(reservations)\n",
    "                user = random.choice(users)\n",
    "\n",
    "                # Does not assume user does not possess reservation already\n",
    "                update_reservation_user(user_session, reservation.reservation_id, user.user_id, user.user_name)\n",
    "\n",
    "            elif selected_action == \"cancel_reservation\":\n",
    "                reservation = random.choice(reservations)\n",
    "                cancel_reservation(user_session, reservation.reservation_id)\n",
    "\n",
    "            elif selected_action == \"make_reservation\":\n",
    "                available_books = [book for book in books if not book.is_reserved]\n",
    "\n",
    "                # There are books available\n",
    "                if len(available_books) > 0:\n",
    "                    selected_random_book = random.choice(available_books)\n",
    "\n",
    "                    try:\n",
    "                        add_reservation(user_session, uuid.uuid4(), user_id, user_name, selected_random_book.book_name, selected_random_book.book_id)\n",
    "                    except:\n",
    "                        pass\n",
    "                    \n",
    "\n",
    "        user_session.shutdown()\n",
    "\n",
    "    thread1 = Thread(target=make_random_requests, args=[user1.user_id, user1.user_name, num_repeats//2])\n",
    "    thread2 = Thread(target=make_random_requests, args=[user2.user_id, user2.user_name, num_repeats//2])\n",
    "\n",
    "    thread1.start()\n",
    "    thread2.start()\n",
    "\n",
    "    thread1.join()\n",
    "    thread2.join()\n",
    "\n",
    "\n",
    "def test_make_random_requests_two_users_fast(user1, user2, num_repeats=10_000):\n",
    "    # Simulates two users making 10_000 total random requests\n",
    "\n",
    "    def make_random_requests_fast(user_id, user_name, num_actions):\n",
    "        # Simulates a user making random requests num_actions number of times\n",
    "\n",
    "        user_cluster = Cluster(CLUSTER_IDS)\n",
    "        user_session = user_cluster.connect(KEYSPACE)\n",
    "\n",
    "        possible_requests = [\"update_reservation_book\", \"update_reservation_user\", \"cancel_reservation\", \"make_reservation\"]\n",
    "\n",
    "        while num_actions > 0:\n",
    "            \n",
    "            if not num_actions%20: #TODO: Getting all these is the slowest part, if you have any idea how to speed it up wihtout errors that would be cool\n",
    "                reservations = list(get_all_reservations(user_session))\n",
    "                books = list(get_all_books(user_session))\n",
    "                users = list(get_all_users(user_session))\n",
    "                \n",
    "            num_actions -= 1\n",
    "            selected_action = random.choice(possible_requests)\n",
    "\n",
    "            # Update DB state information\n",
    "\n",
    "            # If no reservations left, make a reservation\n",
    "            #if len(reservations) == 0:\n",
    "            #    selected_action = \"make_reservation\"\n",
    "            \n",
    "            if selected_action == \"update_reservation_book\":\n",
    "                reservation = random.choice(reservations)\n",
    "                book = random.choice(books)\n",
    "\n",
    "                # Does not assume book is available\n",
    "                try:\n",
    "                    update_reservation(user_session, reservation.reservation_id, book.book_id)\n",
    "                except:\n",
    "                    pass\n",
    "\n",
    "            elif selected_action == \"update_reservation_user\":\n",
    "                reservation = random.choice(reservations)\n",
    "                user = random.choice(users)\n",
    "\n",
    "                # Does not assume user does not possess reservation already\n",
    "                try:\n",
    "                    update_reservation_user(user_session, reservation.reservation_id, user.user_id, user.user_name)\n",
    "                except:\n",
    "                    pass\n",
    "\n",
    "            elif selected_action == \"cancel_reservation\":\n",
    "                reservation = random.choice(reservations)\n",
    "                try:\n",
    "                    cancel_reservation(user_session, reservation.reservation_id)\n",
    "                except:\n",
    "                    pass\n",
    "\n",
    "            elif selected_action == \"make_reservation\":\n",
    "                available_books = [book for book in books if not book.is_reserved]\n",
    "\n",
    "                # There are books available\n",
    "                if len(available_books) > 0:\n",
    "                    selected_random_book = random.choice(available_books)\n",
    "\n",
    "                    try:\n",
    "                        add_reservation(user_session, uuid.uuid4(), user_id, user_name, selected_random_book.book_name, selected_random_book.book_id)\n",
    "                    except:\n",
    "                        pass\n",
    "                    \n",
    "\n",
    "        user_session.shutdown()\n",
    "\n",
    "    thread1 = Thread(target=make_random_requests_fast, args=[user1.user_id, user1.user_name, num_repeats//2])\n",
    "    thread2 = Thread(target=make_random_requests_fast, args=[user2.user_id, user2.user_name, num_repeats//2])\n",
    "\n",
    "    thread1.start()\n",
    "    thread2.start()\n",
    "\n",
    "    thread1.join()\n",
    "    thread2.join()"
   ]
  },
  {
   "cell_type": "code",
   "execution_count": 6,
   "metadata": {},
   "outputs": [
    {
     "name": "stderr",
     "output_type": "stream",
     "text": [
      "100%|██████████| 10000/10000 [01:01<00:00, 163.09it/s]\n"
     ]
    }
   ],
   "source": [
    "test_reserve_cancel(session, reservation_id, user_id, user_name, book_id, book_name)"
   ]
  },
  {
   "cell_type": "code",
   "execution_count": 7,
   "metadata": {},
   "outputs": [
    {
     "name": "stderr",
     "output_type": "stream",
     "text": [
      "100%|██████████| 10000/10000 [00:25<00:00, 397.54it/s]\n"
     ]
    }
   ],
   "source": [
    "test_same_request(session, reservation_id, book_id)"
   ]
  },
  {
   "cell_type": "code",
   "execution_count": 8,
   "metadata": {},
   "outputs": [
    {
     "name": "stderr",
     "output_type": "stream",
     "text": [
      "100%|██████████| 1000/1000 [00:10<00:00, 94.08it/s]\n"
     ]
    }
   ],
   "source": [
    "test_update_reservations(session)"
   ]
  },
  {
   "cell_type": "code",
   "execution_count": 9,
   "metadata": {},
   "outputs": [],
   "source": [
    "test_make_all_reservations_two_users(user1, user2)"
   ]
  },
  {
   "cell_type": "code",
   "execution_count": 18,
   "metadata": {},
   "outputs": [],
   "source": [
    "session.shutdown()\n",
    "cluster.shutdown()"
   ]
  },
  {
   "cell_type": "code",
   "execution_count": 19,
   "metadata": {},
   "outputs": [],
   "source": [
    "profile = ExecutionProfile(\n",
    "    retry_policy = DowngradingConsistencyRetryPolicy,\n",
    "    consistency_level = ConsistencyLevel.TWO,\n",
    "    serial_consistency_level = ConsistencyLevel.LOCAL_SERIAL,\n",
    "    request_timeout = 200,\n",
    ")\n",
    "\n",
    "CLUSTER_IDS = ['172.21.0.2']\n",
    "KEYSPACE = 'library_keyspace'\n",
    "\n",
    "cluster = Cluster(CLUSTER_IDS, execution_profiles={EXEC_PROFILE_DEFAULT: profile})\n",
    "session = cluster.connect()\n",
    "session.set_keyspace(KEYSPACE)"
   ]
  },
  {
   "cell_type": "code",
   "execution_count": 20,
   "metadata": {},
   "outputs": [
    {
     "data": {
      "text/plain": [
       "UUID('ebf9b55d-7b9c-424b-9d0a-ee2dbd4cd269')"
      ]
     },
     "execution_count": 20,
     "metadata": {},
     "output_type": "execute_result"
    }
   ],
   "source": [
    "res = get_all_reservations(session)\n",
    "for r in res:\n",
    "    reservation_id = r.reservation_id\n",
    "    user_id = r.user_id\n",
    "    user_name = r.user_name\n",
    "    book_id = r.book_id\n",
    "    book_name = r.book_name\n",
    "    \n",
    "reservation_id"
   ]
  },
  {
   "cell_type": "code",
   "execution_count": 21,
   "metadata": {},
   "outputs": [
    {
     "data": {
      "text/plain": [
       "(Row(user_id=UUID('b12bedab-69d8-4225-a749-87aea221292b'), reservation_id=UUID('00a6ee41-8fe0-4998-bbd6-126c5246bbcf'), book_id=UUID('4a3302a2-f632-4252-b222-179e2e91c5ff'), book_name='Book 1749', user_name='User 20'),\n",
       " Row(user_id=UUID('f237a743-f796-425c-90df-e19f71448be2'), reservation_id=UUID('00cc3c03-d894-416a-b774-5d884c35b673'), book_id=UUID('a189ee4e-8cf1-46ac-82fb-3a544b6ce503'), book_name='Book 901', user_name='User 64'))"
      ]
     },
     "execution_count": 21,
     "metadata": {},
     "output_type": "execute_result"
    }
   ],
   "source": [
    "users = get_all_users(session)\n",
    "user1, user2 = None, None\n",
    "for user in users:\n",
    "    if user1 is not None and user2 is None and user1.user_id != user.user_id:\n",
    "        user2 = user\n",
    "\n",
    "    if user1 is None:\n",
    "        user1 = user\n",
    "    \n",
    "(user1, user2)"
   ]
  },
  {
   "cell_type": "code",
   "execution_count": 22,
   "metadata": {},
   "outputs": [
    {
     "name": "stdout",
     "output_type": "stream",
     "text": [
      "Error occurred while updating book reservation status: Error from server: code=2200 [Invalid query] message=\"Invalid null value in condition for column book_id\"\n",
      "Error canceling the reservation:  Error from server: code=2200 [Invalid query] message=\"Invalid null value in condition for column book_id\"\n",
      "Error occurred while updating book reservation status: Error from server: code=2200 [Invalid query] message=\"Invalid null value in condition for column book_id\"\n",
      "Error occurred while updating a reservation: Error from server: code=2200 [Invalid query] message=\"Invalid null value in condition for column book_id\"\n",
      "Error occurred while fetching the reservation: No reservation found with ID: 36fcacf6-b194-42d0-bc5d-f684b3643788\n",
      "Error occurred while fetching the reservation: No reservation found with ID: be5968bd-7865-4788-8314-06857f37e589\n",
      "Error occurred while fetching the reservation: No reservation found with ID: fca01479-4811-432f-8e28-8cd8b1dca147\n",
      "Error occurred while updating book reservation status: Error from server: code=2200 [Invalid query] message=\"Invalid null value in condition for column book_id\"\n",
      "Error occurred while updating a reservation: Error from server: code=2200 [Invalid query] message=\"Invalid null value in condition for column book_id\"\n",
      "Error occurred while fetching the reservation: No reservation found with ID: c329acad-04d5-470d-80b6-d0de52547670\n",
      "Error occurred while fetching the reservation: No reservation found with ID: 2d890da4-8c52-46c4-ab21-193b7f6f4aba\n",
      "Error occurred while updating book reservation status: Error from server: code=2200 [Invalid query] message=\"Invalid null value in condition for column book_id\"\n",
      "Error occurred while updating a reservation: Error from server: code=2200 [Invalid query] message=\"Invalid null value in condition for column book_id\"\n",
      "Error occurred while updating book reservation status: Error from server: code=2200 [Invalid query] message=\"Invalid null value in condition for column book_id\"\n",
      "Error occurred while updating a reservation: Error from server: code=2200 [Invalid query] message=\"Invalid null value in condition for column book_id\"\n",
      "Error occurred while updating book reservation status: Error from server: code=2200 [Invalid query] message=\"Invalid null value in condition for column book_id\"\n",
      "Error occurred while updating a reservation: Error from server: code=2200 [Invalid query] message=\"Invalid null value in condition for column book_id\"\n",
      "Error occurred while fetching the reservation: No reservation found with ID: f186ccce-2245-481c-b88a-c1ab5df96292\n",
      "Error occurred while updating book reservation status: Error from server: code=2200 [Invalid query] message=\"Invalid null value in condition for column book_id\"\n",
      "Error occurred while updating a reservation: Error from server: code=2200 [Invalid query] message=\"Invalid null value in condition for column book_id\"\n",
      "Error occurred while updating book reservation status: Error from server: code=2200 [Invalid query] message=\"Invalid null value in condition for column book_id\"\n",
      "Error canceling the reservation:  Error from server: code=2200 [Invalid query] message=\"Invalid null value in condition for column book_id\"\n",
      "Error occurred while updating book reservation status: Error from server: code=2200 [Invalid query] message=\"Invalid null value in condition for column book_id\"\n",
      "Error canceling the reservation:  Error from server: code=2200 [Invalid query] message=\"Invalid null value in condition for column book_id\"\n",
      "Error occurred while updating book reservation status: Error from server: code=2200 [Invalid query] message=\"Invalid null value in condition for column book_id\"\n",
      "Error occurred while updating a reservation: Error from server: code=2200 [Invalid query] message=\"Invalid null value in condition for column book_id\"\n",
      "Error occurred while updating book reservation status: Error from server: code=2200 [Invalid query] message=\"Invalid null value in condition for column book_id\"\n",
      "Error canceling the reservation:  Error from server: code=2200 [Invalid query] message=\"Invalid null value in condition for column book_id\"\n",
      "Error occurred while fetching the reservation: No reservation found with ID: f5722823-00fb-440f-aac1-eaa570aed9e5\n",
      "Error occurred while updating book reservation status: Error from server: code=2200 [Invalid query] message=\"Invalid null value in condition for column book_id\"\n",
      "Error canceling the reservation:  Error from server: code=2200 [Invalid query] message=\"Invalid null value in condition for column book_id\"\n",
      "Error occurred while fetching the reservation: No reservation found with ID: 045de70b-475c-40e6-8507-2597f84396ec\n",
      "Error occurred while updating book reservation status: Error from server: code=2200 [Invalid query] message=\"Invalid null value in condition for column book_id\"\n",
      "Error canceling the reservation:  Error from server: code=2200 [Invalid query] message=\"Invalid null value in condition for column book_id\"\n",
      "Error occurred while fetching the reservation: No reservation found with ID: 25503719-7b1d-43bf-b8de-b59b843bcba0\n",
      "Error occurred while fetching the reservation: No reservation found with ID: 721d487d-7758-4d72-8736-f0016573e6bc\n",
      "Error occurred while updating book reservation status: Error from server: code=2200 [Invalid query] message=\"Invalid null value in condition for column book_id\"\n",
      "Error canceling the reservation:  Error from server: code=2200 [Invalid query] message=\"Invalid null value in condition for column book_id\"\n",
      "Error occurred while fetching the reservation: No reservation found with ID: bde2d7a1-fa9e-4852-b68a-2835e57063ea\n",
      "Error occurred while fetching the reservation: No reservation found with ID: 031fe4dd-799c-4101-ba56-09642af47551\n",
      "Error occurred while updating book reservation status: Error from server: code=2200 [Invalid query] message=\"Invalid null value in condition for column book_id\"\n",
      "Error occurred while updating a reservation: Error from server: code=2200 [Invalid query] message=\"Invalid null value in condition for column book_id\"\n"
     ]
    }
   ],
   "source": [
    "# IMPORTANT: Resetting the database before this test and reconnecting (RUN delete_static_DB.py and then RUN create_tests_DB.py )\n",
    "test_make_random_requests_two_users_fast(user1, user2)"
   ]
  },
  {
   "cell_type": "code",
   "execution_count": 14,
   "metadata": {},
   "outputs": [],
   "source": [
    "session.shutdown()\n",
    "cluster.shutdown()"
   ]
  },
  {
   "cell_type": "markdown",
   "metadata": {},
   "source": [
    "# Prev Tests"
   ]
  },
  {
   "cell_type": "code",
   "execution_count": null,
   "metadata": {},
   "outputs": [],
   "source": [
    "def add_reservation_fast(session, reservation_id, user_id, user_name, book_name, book_id, timeout = 120):\n",
    "    insert_reservation_query = \"\"\"\n",
    "        INSERT INTO reservations (reservation_id, user_id, user_name, book_name, book_id)\n",
    "        VALUES (%s, %s, %s, %s, %s);\n",
    "    \"\"\"\n",
    "    try:\n",
    "        book = get_book(session, book_id = book_id)\n",
    "        if book is not None and not book.is_reserved:\n",
    "            set_book_reserved(session, book_id=book_id, reserved = True, timeout = timeout)\n",
    "            #append_user_reservation(session, user_id, user_name, reservation_id, timeout = timeout)\n",
    "            session.execute(insert_reservation_query, [reservation_id, user_id, user_name, book_name, book_id], timeout=timeout)\n",
    "    except InvalidRequest as e:\n",
    "        print(\"Error occurred while inserting reservation:\", e)"
   ]
  },
  {
   "cell_type": "code",
   "execution_count": null,
   "metadata": {},
   "outputs": [],
   "source": [
    "def add_reservation_slow(session, reservation_id, user_id, user_name, book_name, book_id, timeout = 120):\n",
    "    insert_reservation_query = \"\"\"\n",
    "        INSERT INTO reservations (reservation_id, user_id, user_name, book_name, book_id)\n",
    "        VALUES (%s, %s, %s, %s, %s);\n",
    "    \"\"\"\n",
    "    try:\n",
    "        book = get_book(session, book_id = book_id)\n",
    "        if book is not None and not book.is_reserved:\n",
    "            set_book_reserved(session, book_id=book_id, reserved = True, timeout = timeout)\n",
    "            append_user_reservation(session, user_id, user_name, reservation_id, timeout = timeout)\n",
    "            session.execute(insert_reservation_query, [reservation_id, user_id, user_name, book_name, book_id], timeout=timeout)\n",
    "    except InvalidRequest as e:\n",
    "        print(\"Error occurred while inserting reservation:\", e)"
   ]
  },
  {
   "cell_type": "code",
   "execution_count": null,
   "metadata": {},
   "outputs": [],
   "source": [
    "class Add_Reservation_Handler:\n",
    "    def __init__(self, session):\n",
    "        self.insert_data = []  # Initialized as an empty list\n",
    "        self.counter = 0  # Initialized as 0\n",
    "        self.session = session\n",
    "\n",
    "    def add_data(self, data):\n",
    "        self.insert_data.append(data)\n",
    "        self.counter += 1\n",
    "\n",
    "    def display_data(self):\n",
    "        print(\"Inserted Data:\", self.insert_data)\n",
    "        print(\"Counter:\", self.counter)\n",
    "\n",
    "    def batch_set_book_reserved(self, session, book_id, reserved = True, timeout = 120):\n",
    "        pass\n",
    "\n",
    "    def add_batch_reservation(self, reservation_id, user_id, user_name, book_name, book_id, batch_size = 1000, forceful_exec = False, timeout = 120):\n",
    "        try:\n",
    "            book = get_book(self.session, book_id = book_id)\n",
    "            if book is not None and not book.is_reserved:\n",
    "                self.insert_data.append((reservation_id, user_id, user_name, book_name, book_id))\n",
    "                self.counter += 1\n",
    "                if forceful_exec or self.counter == batch_size:\n",
    "                    self.batch_set_book_reserved(book_id=book_id, reserved = True, timeout = timeout)\n",
    "                    self.batch_append_user_reservation(self.session, user_id, user_name, reservation_id, timeout = timeout)\n",
    "                    insert_reservation_query = self.session.prepare(\"\"\"\n",
    "                                                                    INSERT INTO reservations (reservation_id, user_id, user_name, book_name, book_id)\n",
    "                                                                    VALUES (?, ?, ?, ?, ?);\"\"\")\n",
    "                    batch_add = BatchStatement()\n",
    "                    for example in self.insert_data:\n",
    "                        batch_add.add(insert_reservation_query, example[0], example[1], example[2], example[3], example[4])\n",
    "                    \n",
    "                    self.session.execute(batch_add, timeout=timeout)\n",
    "                    self.counter = 0\n",
    "                    self.insert_data = []\n",
    "        except InvalidRequest as e:\n",
    "            print(\"Error occurred while inserting reservation:\", e)"
   ]
  },
  {
   "cell_type": "code",
   "execution_count": null,
   "metadata": {},
   "outputs": [],
   "source": [
    "    print(\"Adding books\")\n",
    "    book_ids = []\n",
    "    book_names = []\n",
    "    insert_statement_books = session.prepare(\"\"\"\n",
    "        INSERT INTO books (book_id, book_name, is_reserved) VALUES (?, ?, ?)\n",
    "    \"\"\")\n",
    "    for i in range(200):\n",
    "        batch_books = BatchStatement()\n",
    "        for j in range(10):\n",
    "            book_id = uuid.uuid4()\n",
    "            book_ids.append(book_id)\n",
    "            book_name = f'Book {i*10+j+1}'\n",
    "            book_names.append(book_name)\n",
    "            batch_books.add(insert_statement_books, (book_id, book_name, False))\n",
    "        try:\n",
    "            session.execute(batch_books, timeout=120)\n",
    "        except InvalidRequest as e:\n",
    "            raise e"
   ]
  },
  {
   "cell_type": "code",
   "execution_count": null,
   "metadata": {},
   "outputs": [],
   "source": [
    "def add_batch_reservation(session, reservation_id, user_id, user_name, book_name, book_id, batch_size = 1000, forceful_exec = False, counter = 0):\n",
    "    insert_reservation_query = \"\"\"\n",
    "        INSERT INTO reservations (reservation_id, user_id, user_name, book_name, book_id)\n",
    "        VALUES (%s, %s, %s, %s, %s);\n",
    "    \"\"\"\n",
    "    try:\n",
    "        book = get_book(session, book_id = book_id)\n",
    "        if book is not None and not book.is_reserved:\n",
    "\n",
    "            set_book_reserved(session, book_id=book_id, reserved = True, timeout = timeout)\n",
    "            append_user_reservation(session, user_id, user_name, reservation_id, timeout = timeout)\n",
    "            session.execute(insert_reservation_query, [reservation_id, user_id, user_name, book_name, book_id], timeout=timeout)\n",
    "    except InvalidRequest as e:\n",
    "        print(\"Error occurred while inserting reservation:\", e)    \n",
    "    return counter\n",
    "\n",
    "def cancel_batch_reservation(session, reservation_id, batch_size = 1000, forceful_exec = False, prepared = False):\n",
    "    pass"
   ]
  },
  {
   "cell_type": "code",
   "execution_count": null,
   "metadata": {},
   "outputs": [],
   "source": [
    "def test_reserve_cancel_fast(session, reservation_id, user_id, user_name, book_id, book_name, repeat_num=10_000):\n",
    "    # Creates and cancels a reservation 10_000 times\n",
    "\n",
    "    for _ in tqdm(range(repeat_num)):\n",
    "        add_reservation_fast(session, reservation_id, user_id, user_name, book_name, book_id)\n",
    "        cancel_reservation(session, reservation_id)\n",
    "\n",
    "    add_reservation_fast(session, reservation_id, user_id, user_name, book_name, book_id)\n",
    "\n",
    "def test_reserve_cancel_slow(session, reservation_id, user_id, user_name, book_id, book_name, repeat_num=10_000):\n",
    "    # Creates and cancels a reservation 10_000 times\n",
    "\n",
    "    for _ in tqdm(range(repeat_num)):\n",
    "        add_reservation_slow(session, reservation_id, user_id, user_name, book_name, book_id)\n",
    "        cancel_reservation(session, reservation_id)\n",
    "\n",
    "    add_reservation_slow(session, reservation_id, user_id, user_name, book_name, book_id)"
   ]
  },
  {
   "cell_type": "code",
   "execution_count": null,
   "metadata": {},
   "outputs": [
    {
     "name": "stderr",
     "output_type": "stream",
     "text": [
      "100%|██████████| 10000/10000 [00:58<00:00, 169.56it/s]"
     ]
    },
    {
     "name": "stdout",
     "output_type": "stream",
     "text": [
      "Execution Time: 58.98241949081421\n"
     ]
    },
    {
     "name": "stderr",
     "output_type": "stream",
     "text": [
      "\n"
     ]
    }
   ],
   "source": [
    "start_time = time.time()\n",
    "test_reserve_cancel_fast(session, reservation_id, user_id, user_name, book_id, book_name)\n",
    "end_time = time.time()\n",
    "print(f\"Execution Time: {end_time - start_time}\")"
   ]
  },
  {
   "cell_type": "code",
   "execution_count": null,
   "metadata": {},
   "outputs": [
    {
     "name": "stderr",
     "output_type": "stream",
     "text": [
      "100%|██████████| 10000/10000 [03:18<00:00, 50.33it/s]"
     ]
    },
    {
     "name": "stdout",
     "output_type": "stream",
     "text": [
      "Execution Time: 198.7042052745819\n"
     ]
    },
    {
     "name": "stderr",
     "output_type": "stream",
     "text": [
      "\n"
     ]
    }
   ],
   "source": [
    "start_time = time.time()\n",
    "test_reserve_cancel_slow(session, reservation_id, user_id, user_name, book_id, book_name)\n",
    "end_time = time.time()\n",
    "print(f\"Execution Time: {end_time - start_time}\")"
   ]
  },
  {
   "cell_type": "code",
   "execution_count": null,
   "metadata": {},
   "outputs": [
    {
     "name": "stderr",
     "output_type": "stream",
     "text": [
      "100%|██████████| 10000/10000 [02:56<00:00, 56.51it/s]"
     ]
    },
    {
     "name": "stdout",
     "output_type": "stream",
     "text": [
      "Execution Time: 176.95874738693237\n"
     ]
    },
    {
     "name": "stderr",
     "output_type": "stream",
     "text": [
      "\n"
     ]
    }
   ],
   "source": [
    "start_time = time.time()\n",
    "test_reserve_cancel_fast(session, reservation_id, user_id, user_name, book_id, book_name)\n",
    "end_time = time.time()\n",
    "print(f\"Execution Time: {end_time - start_time}\")"
   ]
  }
 ],
 "metadata": {
  "kernelspec": {
   "display_name": "Python 3",
   "language": "python",
   "name": "python3"
  },
  "language_info": {
   "codemirror_mode": {
    "name": "ipython",
    "version": 3
   },
   "file_extension": ".py",
   "mimetype": "text/x-python",
   "name": "python",
   "nbconvert_exporter": "python",
   "pygments_lexer": "ipython3",
   "version": "3.10.12"
  }
 },
 "nbformat": 4,
 "nbformat_minor": 2
}
